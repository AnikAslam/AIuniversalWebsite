{
  "nbformat": 4,
  "nbformat_minor": 0,
  "metadata": {
    "colab": {
      "name": "DashTry.ipynb",
      "provenance": [],
      "collapsed_sections": [],
      "authorship_tag": "ABX9TyOgPLbNWdSMMElzzjIhYFZ8",
      "include_colab_link": true
    },
    "kernelspec": {
      "name": "python3",
      "display_name": "Python 3"
    },
    "language_info": {
      "name": "python"
    }
  },
  "cells": [
    {
      "cell_type": "markdown",
      "metadata": {
        "id": "view-in-github",
        "colab_type": "text"
      },
      "source": [
        "<a href=\"https://colab.research.google.com/github/AnikAslam/AIuniversalWebsite/blob/main/DashTry.ipynb\" target=\"_parent\"><img src=\"https://colab.research.google.com/assets/colab-badge.svg\" alt=\"Open In Colab\"/></a>"
      ]
    },
    {
      "cell_type": "code",
      "metadata": {
        "id": "qo49b124adN5"
      },
      "source": [
        "# Imports\n",
        "#!pip install dash\n",
        "import dash\n",
        "import dash_core_components as dcc\n",
        "import dash_html_components as html\n",
        "from dash.dependencies import Input, Output\n",
        "import pandas as pd\n",
        "import plotly.graph_objs as go"
      ],
      "execution_count": 3,
      "outputs": []
    },
    {
      "cell_type": "code",
      "metadata": {
        "id": "ujrA4wfvaol-"
      },
      "source": [
        "# Load and preprocess data\n",
        "off_shores = pd.read_csv(\"https://raw.githubusercontent.com/AnikAslam/Off-Shores/main/FinalAll.csv\")"
      ],
      "execution_count": 4,
      "outputs": []
    },
    {
      "cell_type": "code",
      "metadata": {
        "colab": {
          "base_uri": "https://localhost:8080/",
          "height": 671
        },
        "id": "UPQfGMGnauvN",
        "outputId": "832f8f53-9cc1-4448-f635-1ce1c69d5482"
      },
      "source": [
        "import plotly.express as px\n",
        "#!pip install jupyter_dash\n",
        "from jupyter_dash import JupyterDash\n",
        "\n",
        "token = \"pk.eyJ1IjoiYW5pa2FzbGFtIiwiYSI6ImNrbnN2czJweDA4OHQyd3BkaXh3aXRyankifQ.JYDl5v48_QoA07QxY_yQHQ\"\n",
        "\n",
        "fig = px.scatter_mapbox(off_shores, lat=\"Latitude\", lon=\"Longitude\",\n",
        "            color=\"Struc Type Code\",  \n",
        "            height=600, zoom=6, hover_name='Bus Asc Name' \n",
        "            )\n",
        "\n",
        "#Plotly.plot(fig, off_shores, layout, { mapboxAccessToken: token });\n",
        "fig.update_layout(title_text=\"Floating off-shores on Gulf of Mexico\")\n",
        "fig.update_layout(mapbox_style=\"dark\", mapbox_accesstoken = token)\n",
        "\n",
        "mark_values = {1947:'1947',1957:'1957',1967:'1967',1977:'1977',\n",
        "               1987:'1987',1997:'1997',2007:'2007',2017:'2017'}\n",
        "\n",
        "app = JupyterDash(__name__)\n",
        "\n",
        "app.layout = html.Div([\n",
        "        html.Div([\n",
        "            html.H1(children= \"Floating Off-Shores on Gulf of Mexico\",\n",
        "            style={\"text-align\": \"center\"})\n",
        "        ]),\n",
        "\n",
        "        html.Div([\n",
        "            dcc.Graph(id='the_graph',\n",
        "                figure = fig)\n",
        "        ]),\n",
        "\n",
        "        html.Div([\n",
        "            dcc.RangeSlider(id='the_year',\n",
        "                min=1947,\n",
        "                max=2020,\n",
        "                value=[1947, 2020],\n",
        "                marks=mark_values,\n",
        "                step=1)\n",
        "        ],style={\"width\": \"88%\", \"position\":\"absolute\",\n",
        "                 \"left\":\"5%\"})\n",
        "\n",
        "])\n",
        "\n",
        "@app.callback(\n",
        "    Output('the_graph','figure'),\n",
        "    [Input('the_year','value')]\n",
        ")\n",
        "\n",
        "def update_graph(years_chosen):\n",
        "    # print(years_chosen)\n",
        "\n",
        "    dff = off_shores[(off_shores['year']>=years_chosen[0])&(off_shores['year']<=years_chosen[1])]\n",
        "    #print(dff)\n",
        "    # filter df rows where column year values are >=1985 AND <=1988\n",
        "    token = open(\"token.txt\").read()\n",
        "\n",
        "    scatterplot = px.scatter_mapbox(\n",
        "        data_frame=dff,\n",
        "        lat=\"Latitude\", lon=\"Longitude\",\n",
        "        color=\"Struc Type Code\",  \n",
        "        height=600, zoom=6, hover_name='Bus Asc Name'\n",
        "    )\n",
        "\n",
        "    scatterplot.update_layout(mapbox_style=\"dark\", mapbox_accesstoken = token)\n",
        "    return (scatterplot)\n",
        "\n",
        "app.run_server(mode=\"inline\")"
      ],
      "execution_count": 16,
      "outputs": [
        {
          "output_type": "display_data",
          "data": {
            "application/javascript": [
              "(async (port, path, width, height, cache, element) => {\n",
              "    if (!google.colab.kernel.accessAllowed && !cache) {\n",
              "      return;\n",
              "    }\n",
              "    element.appendChild(document.createTextNode(''));\n",
              "    const url = await google.colab.kernel.proxyPort(port, {cache});\n",
              "    const iframe = document.createElement('iframe');\n",
              "    iframe.src = url + path;\n",
              "    iframe.height = height;\n",
              "    iframe.width = width;\n",
              "    iframe.style.border = 0;\n",
              "    element.appendChild(iframe);\n",
              "  })(8050, \"/\", \"100%\", 650, false, window.element)"
            ],
            "text/plain": [
              "<IPython.core.display.Javascript object>"
            ]
          },
          "metadata": {
            "tags": []
          }
        }
      ]
    }
  ]
}